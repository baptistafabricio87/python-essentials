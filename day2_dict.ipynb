{
 "cells": [
  {
   "cell_type": "code",
   "execution_count": 1,
   "id": "630b0dba",
   "metadata": {},
   "outputs": [],
   "source": [
    "# DICIONARIOS"
   ]
  },
  {
   "cell_type": "code",
   "execution_count": 2,
   "id": "59bf172d",
   "metadata": {},
   "outputs": [],
   "source": [
    "# Sequencias que aprendemos até o momento. "
   ]
  },
  {
   "cell_type": "code",
   "execution_count": 3,
   "id": "bf059e4d",
   "metadata": {},
   "outputs": [],
   "source": [
    "tuple, list, set, str"
   ]
  },
  {
   "cell_type": "code",
   "execution_count": 4,
   "id": "25017d9e",
   "metadata": {},
   "outputs": [],
   "source": [
    "# Dicionário tem caracteristicas de duas sequencias conhecidas, 'list' e 'set'. Pois é mutável, implementa hash table que permite buscas mais rapida e deduplicidade, e o mais interessante é que ele guarda duas informações por posição.Sendo elas 'key' e 'value' (chave e valor) como foi feito no exercicio da escola, onde fizemos uma lista com uma tupla para relacionar uma string com uma lista, como abaixo:"
   ]
  },
  {
   "cell_type": "code",
   "execution_count": 5,
   "id": "ceebd185",
   "metadata": {},
   "outputs": [],
   "source": [
    "atividades = [ \\('Ingles', ['Joao', 'Maria']), ('Musica', ['Joao', 'Maria']),]"
   ]
  },
  {
   "cell_type": "code",
   "execution_count": 6,
   "id": "b120c011",
   "metadata": {},
   "outputs": [],
   "source": [
    "atividades = [('Ingles', ['Joao', 'Maria']), ('Musica', ['Joao', 'Maria']),]"
   ]
  },
  {
   "cell_type": "code",
   "execution_count": 7,
   "id": "188c2964",
   "metadata": {},
   "outputs": [],
   "source": [
    "atividades"
   ]
  },
  {
   "cell_type": "code",
   "execution_count": 8,
   "id": "1c3d10fe",
   "metadata": {},
   "outputs": [],
   "source": [
    "# Podemos acessar os dois valores da 'tupla' a partir do indice da 'lista'."
   ]
  },
  {
   "cell_type": "code",
   "execution_count": 9,
   "id": "d5c3a613",
   "metadata": {},
   "outputs": [],
   "source": [
    "atividades[0]"
   ]
  },
  {
   "cell_type": "code",
   "execution_count": 10,
   "id": "408726d9",
   "metadata": {},
   "outputs": [],
   "source": [
    "atividades[1]"
   ]
  },
  {
   "cell_type": "code",
   "execution_count": 11,
   "id": "ba86e679",
   "metadata": {},
   "outputs": [],
   "source": [
    "for atividade in atividades:\n",
    "    if atividade[0] == 'Musica':\n",
    "        print(atividade[1])\n",
    "        "
   ]
  },
  {
   "cell_type": "code",
   "execution_count": 12,
   "id": "ba767f71",
   "metadata": {},
   "outputs": [],
   "source": [
    "# Assim temos uma operação O de n 'O(n)'"
   ]
  },
  {
   "cell_type": "code",
   "execution_count": 13,
   "id": "b592c956",
   "metadata": {},
   "outputs": [],
   "source": [
    "del?7"
   ]
  },
  {
   "cell_type": "code",
   "execution_count": 14,
   "id": "f305386a",
   "metadata": {},
   "outputs": [],
   "source": [
    "help(del)7"
   ]
  }
 ],
 "metadata": {},
 "nbformat": 4,
 "nbformat_minor": 5
}
